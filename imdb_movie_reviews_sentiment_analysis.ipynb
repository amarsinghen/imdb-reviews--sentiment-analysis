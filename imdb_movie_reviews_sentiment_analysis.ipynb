{
  "nbformat": 4,
  "nbformat_minor": 0,
  "metadata": {
    "colab": {
      "name": "imdb-movie-reviews-sentiment-analysis.ipynb",
      "provenance": [],
      "collapsed_sections": [],
      "machine_shape": "hm",
      "mount_file_id": "1_jkOJD6GD8fFExR4TAYvY8zrZX_-FK_u",
      "authorship_tag": "ABX9TyMzWtaJY1XQ5BkwPoszExYI",
      "include_colab_link": true
    },
    "kernelspec": {
      "name": "python3",
      "display_name": "Python 3"
    },
    "accelerator": "GPU"
  },
  "cells": [
    {
      "cell_type": "markdown",
      "metadata": {
        "id": "view-in-github",
        "colab_type": "text"
      },
      "source": [
        "<a href=\"https://colab.research.google.com/github/amarsinghen/imdb-reviews--sentiment-analysis/blob/main/imdb_movie_reviews_sentiment_analysis.ipynb\" target=\"_parent\"><img src=\"https://colab.research.google.com/assets/colab-badge.svg\" alt=\"Open In Colab\"/></a>"
      ]
    },
    {
      "cell_type": "code",
      "metadata": {
        "id": "h-lN9iEF7NtX",
        "outputId": "e04a2bd2-3a86-4016-98b5-c98c1306ef86",
        "colab": {
          "base_uri": "https://localhost:8080/",
          "height": 35
        }
      },
      "source": [
        "import tensorflow as tf\n",
        "tf.__version__"
      ],
      "execution_count": 1,
      "outputs": [
        {
          "output_type": "execute_result",
          "data": {
            "application/vnd.google.colaboratory.intrinsic+json": {
              "type": "string"
            },
            "text/plain": [
              "'2.3.0'"
            ]
          },
          "metadata": {
            "tags": []
          },
          "execution_count": 1
        }
      ]
    },
    {
      "cell_type": "code",
      "metadata": {
        "id": "rhP4sDv4LZtS",
        "outputId": "cf8f8564-1b88-42fc-db23-a471234ff00a",
        "colab": {
          "base_uri": "https://localhost:8080/",
          "height": 357
        }
      },
      "source": [
        "!nvidia-smi"
      ],
      "execution_count": 2,
      "outputs": [
        {
          "output_type": "stream",
          "text": [
            "Fri Oct  2 04:46:07 2020       \n",
            "+-----------------------------------------------------------------------------+\n",
            "| NVIDIA-SMI 455.23.05    Driver Version: 418.67       CUDA Version: 10.1     |\n",
            "|-------------------------------+----------------------+----------------------+\n",
            "| GPU  Name        Persistence-M| Bus-Id        Disp.A | Volatile Uncorr. ECC |\n",
            "| Fan  Temp  Perf  Pwr:Usage/Cap|         Memory-Usage | GPU-Util  Compute M. |\n",
            "|                               |                      |               MIG M. |\n",
            "|===============================+======================+======================|\n",
            "|   0  Tesla P100-PCIE...  Off  | 00000000:00:04.0 Off |                    0 |\n",
            "| N/A   34C    P0    25W / 250W |      0MiB / 16280MiB |      0%      Default |\n",
            "|                               |                      |                 ERR! |\n",
            "+-------------------------------+----------------------+----------------------+\n",
            "                                                                               \n",
            "+-----------------------------------------------------------------------------+\n",
            "| Processes:                                                                  |\n",
            "|  GPU   GI   CI        PID   Type   Process name                  GPU Memory |\n",
            "|        ID   ID                                                   Usage      |\n",
            "|=============================================================================|\n",
            "|  No running processes found                                                 |\n",
            "+-----------------------------------------------------------------------------+\n"
          ],
          "name": "stdout"
        }
      ]
    },
    {
      "cell_type": "code",
      "metadata": {
        "id": "coIK88S5DTBF",
        "outputId": "4bcd91c8-4c1e-436b-8f8c-b1b0549e8f9f",
        "colab": {
          "base_uri": "https://localhost:8080/",
          "height": 306
        }
      },
      "source": [
        "!pip install contractions"
      ],
      "execution_count": 3,
      "outputs": [
        {
          "output_type": "stream",
          "text": [
            "Collecting contractions\n",
            "  Downloading https://files.pythonhosted.org/packages/00/92/a05b76a692ac08d470ae5c23873cf1c9a041532f1ee065e74b374f218306/contractions-0.0.25-py2.py3-none-any.whl\n",
            "Collecting textsearch\n",
            "  Downloading https://files.pythonhosted.org/packages/42/a8/03407021f9555043de5492a2bd7a35c56cc03c2510092b5ec018cae1bbf1/textsearch-0.0.17-py2.py3-none-any.whl\n",
            "Collecting Unidecode\n",
            "\u001b[?25l  Downloading https://files.pythonhosted.org/packages/d0/42/d9edfed04228bacea2d824904cae367ee9efd05e6cce7ceaaedd0b0ad964/Unidecode-1.1.1-py2.py3-none-any.whl (238kB)\n",
            "\u001b[K     |████████████████████████████████| 245kB 10.2MB/s \n",
            "\u001b[?25hCollecting pyahocorasick\n",
            "\u001b[?25l  Downloading https://files.pythonhosted.org/packages/f4/9f/f0d8e8850e12829eea2e778f1c90e3c53a9a799b7f412082a5d21cd19ae1/pyahocorasick-1.4.0.tar.gz (312kB)\n",
            "\u001b[K     |████████████████████████████████| 317kB 14.8MB/s \n",
            "\u001b[?25hBuilding wheels for collected packages: pyahocorasick\n",
            "  Building wheel for pyahocorasick (setup.py) ... \u001b[?25l\u001b[?25hdone\n",
            "  Created wheel for pyahocorasick: filename=pyahocorasick-1.4.0-cp36-cp36m-linux_x86_64.whl size=81703 sha256=9a2fe618e979b23c1d6b7535adc354a8025cb00468e02e99c7cf23595720864f\n",
            "  Stored in directory: /root/.cache/pip/wheels/0a/90/61/87a55f5b459792fbb2b7ba6b31721b06ff5cf6bde541b40994\n",
            "Successfully built pyahocorasick\n",
            "Installing collected packages: Unidecode, pyahocorasick, textsearch, contractions\n",
            "Successfully installed Unidecode-1.1.1 contractions-0.0.25 pyahocorasick-1.4.0 textsearch-0.0.17\n"
          ],
          "name": "stdout"
        }
      ]
    },
    {
      "cell_type": "code",
      "metadata": {
        "id": "BdcXpmoZBoGR",
        "outputId": "b6d28d90-5205-4f8d-efc1-a6bab46725be",
        "colab": {
          "base_uri": "https://localhost:8080/",
          "height": 51
        }
      },
      "source": [
        "import zipfile\n",
        "import pandas as pd\n",
        "import numpy as np\n",
        "import matplotlib.pyplot as plt\n",
        "import csv\n",
        "import gc\n",
        "import re\n",
        "import os\n",
        "import nltk\n",
        "nltk.download('wordnet')\n",
        "from nltk.stem import WordNetLemmatizer\n",
        "from nltk.tokenize.toktok import ToktokTokenizer\n",
        "import unicodedata\n",
        "import spacy\n",
        "from bs4 import BeautifulSoup\n",
        "import unicodedata\n",
        "import contractions\n",
        "import pickle\n",
        "import gzip\n",
        "from sklearn.metrics import classification_report, confusion_matrix\n",
        "import itertools\n",
        "import seaborn as sns"
      ],
      "execution_count": 4,
      "outputs": [
        {
          "output_type": "stream",
          "text": [
            "[nltk_data] Downloading package wordnet to /root/nltk_data...\n",
            "[nltk_data]   Unzipping corpora/wordnet.zip.\n"
          ],
          "name": "stdout"
        }
      ]
    },
    {
      "cell_type": "code",
      "metadata": {
        "id": "RsqK2CHl8ZQJ"
      },
      "source": [
        "from tensorflow.keras.models import Model, Sequential\n",
        "from tensorflow.keras.layers import Dense, Embedding, Input, Conv1D, GlobalMaxPool1D, Dropout, concatenate, Layer, InputSpec, LSTM\n",
        "from tensorflow.keras.preprocessing import text, sequence\n",
        "from tensorflow.keras.callbacks import EarlyStopping, ModelCheckpoint\n",
        "from tensorflow.keras import backend as K\n",
        "from tensorflow.keras import activations, initializers, regularizers, constraints\n",
        "from tensorflow.keras.regularizers import l2\n",
        "from tensorflow.keras.constraints import MaxNorm"
      ],
      "execution_count": 5,
      "outputs": []
    },
    {
      "cell_type": "markdown",
      "metadata": {
        "id": "mQyQQEPzDK9e"
      },
      "source": [
        "## Loading raw data from kaggle"
      ]
    },
    {
      "cell_type": "code",
      "metadata": {
        "id": "s3Hwne1H_tZH",
        "outputId": "0f1b31a5-65ac-492d-d509-c54c4b3c5365",
        "colab": {
          "base_uri": "https://localhost:8080/",
          "height": 68
        }
      },
      "source": [
        "# Downloading the data from kaggle for first time, and \n",
        "# then saving to google drive for future uses. It is faster this way\n",
        "!pip install -q kaggle\n",
        "# The Kaggle API client expects this file to be in ~/.kaggle,\n",
        "# so move it there.\n",
        "!mkdir -p ~/.kaggle\n",
        "!cp '/content/drive/My Drive/kaggle.json' ~/.kaggle/\n",
        "# This permissions change avoids a warning on Kaggle tool startup.\n",
        "!chmod 600 ~/.kaggle/kaggle.json\n",
        "!kaggle datasets download -d lakshmi25npathi/imdb-dataset-of-50k-movie-reviews"
      ],
      "execution_count": 6,
      "outputs": [
        {
          "output_type": "stream",
          "text": [
            "Downloading imdb-dataset-of-50k-movie-reviews.zip to /content\n",
            " 35% 9.00M/25.7M [00:00<00:01, 12.3MB/s]\n",
            "100% 25.7M/25.7M [00:00<00:00, 27.9MB/s]\n"
          ],
          "name": "stdout"
        }
      ]
    },
    {
      "cell_type": "code",
      "metadata": {
        "id": "vvCK13JP_pBy"
      },
      "source": [
        "import zipfile\n",
        "local_zip = ['imdb-dataset-of-50k-movie-reviews.zip']\n",
        "for i in range(len(local_zip)):\n",
        "    zip_ref = zipfile.ZipFile(local_zip[i], 'r')\n",
        "    zip_ref.extractall('/tmp')\n",
        "    zip_ref.close()"
      ],
      "execution_count": 7,
      "outputs": []
    },
    {
      "cell_type": "markdown",
      "metadata": {
        "id": "tTnt5ny5Gxir"
      },
      "source": [
        "### Creating pandas dataframe"
      ]
    },
    {
      "cell_type": "code",
      "metadata": {
        "id": "AelCgCftOdlm",
        "outputId": "21239b16-ed49-4ad6-9335-14657cc4fc76",
        "colab": {
          "base_uri": "https://localhost:8080/",
          "height": 111
        }
      },
      "source": [
        "train_df = pd.read_csv('/tmp/IMDB Dataset.csv')\n",
        "train_df[:2]"
      ],
      "execution_count": 8,
      "outputs": [
        {
          "output_type": "execute_result",
          "data": {
            "text/html": [
              "<div>\n",
              "<style scoped>\n",
              "    .dataframe tbody tr th:only-of-type {\n",
              "        vertical-align: middle;\n",
              "    }\n",
              "\n",
              "    .dataframe tbody tr th {\n",
              "        vertical-align: top;\n",
              "    }\n",
              "\n",
              "    .dataframe thead th {\n",
              "        text-align: right;\n",
              "    }\n",
              "</style>\n",
              "<table border=\"1\" class=\"dataframe\">\n",
              "  <thead>\n",
              "    <tr style=\"text-align: right;\">\n",
              "      <th></th>\n",
              "      <th>review</th>\n",
              "      <th>sentiment</th>\n",
              "    </tr>\n",
              "  </thead>\n",
              "  <tbody>\n",
              "    <tr>\n",
              "      <th>0</th>\n",
              "      <td>One of the other reviewers has mentioned that ...</td>\n",
              "      <td>positive</td>\n",
              "    </tr>\n",
              "    <tr>\n",
              "      <th>1</th>\n",
              "      <td>A wonderful little production. &lt;br /&gt;&lt;br /&gt;The...</td>\n",
              "      <td>positive</td>\n",
              "    </tr>\n",
              "  </tbody>\n",
              "</table>\n",
              "</div>"
            ],
            "text/plain": [
              "                                              review sentiment\n",
              "0  One of the other reviewers has mentioned that ...  positive\n",
              "1  A wonderful little production. <br /><br />The...  positive"
            ]
          },
          "metadata": {
            "tags": []
          },
          "execution_count": 8
        }
      ]
    },
    {
      "cell_type": "code",
      "metadata": {
        "id": "oCHguAC4H-Mn",
        "outputId": "53768bba-0c98-40b4-8f7e-99e06e506651",
        "colab": {
          "base_uri": "https://localhost:8080/",
          "height": 102
        }
      },
      "source": [
        "train_df[\"reviews_char_length\"] = train_df['review'].str.len()\n",
        "print(train_df[:2])"
      ],
      "execution_count": 9,
      "outputs": [
        {
          "output_type": "stream",
          "text": [
            "                                              review  ... reviews_char_length\n",
            "0  One of the other reviewers has mentioned that ...  ...                1761\n",
            "1  A wonderful little production. <br /><br />The...  ...                 998\n",
            "\n",
            "[2 rows x 3 columns]\n"
          ],
          "name": "stdout"
        }
      ]
    },
    {
      "cell_type": "code",
      "metadata": {
        "id": "c46rBpfmQ338",
        "outputId": "c0590276-00e0-4559-f7b8-3dee79c622d5",
        "colab": {
          "base_uri": "https://localhost:8080/",
          "height": 51
        }
      },
      "source": [
        "train_df['review'].loc[:0].str.split()"
      ],
      "execution_count": 10,
      "outputs": [
        {
          "output_type": "execute_result",
          "data": {
            "text/plain": [
              "0    [One, of, the, other, reviewers, has, mentione...\n",
              "Name: review, dtype: object"
            ]
          },
          "metadata": {
            "tags": []
          },
          "execution_count": 10
        }
      ]
    },
    {
      "cell_type": "code",
      "metadata": {
        "id": "a5Zcvl6vKcwQ",
        "outputId": "b80cf4d3-144f-4966-a002-a9c56f1061c1",
        "colab": {
          "base_uri": "https://localhost:8080/",
          "height": 102
        }
      },
      "source": [
        "train_df[\"reviews_words_counts\"] = train_df['review'].str.split().str.len()\n",
        "print(train_df[:2])"
      ],
      "execution_count": 11,
      "outputs": [
        {
          "output_type": "stream",
          "text": [
            "                                              review  ... reviews_words_counts\n",
            "0  One of the other reviewers has mentioned that ...  ...                  307\n",
            "1  A wonderful little production. <br /><br />The...  ...                  162\n",
            "\n",
            "[2 rows x 4 columns]\n"
          ],
          "name": "stdout"
        }
      ]
    },
    {
      "cell_type": "code",
      "metadata": {
        "id": "QGMBGxLjVous",
        "outputId": "87ad8b8c-919e-4e68-eddc-554deba9290e",
        "colab": {
          "base_uri": "https://localhost:8080/",
          "height": 297
        }
      },
      "source": [
        "train_df.describe()"
      ],
      "execution_count": 12,
      "outputs": [
        {
          "output_type": "execute_result",
          "data": {
            "text/html": [
              "<div>\n",
              "<style scoped>\n",
              "    .dataframe tbody tr th:only-of-type {\n",
              "        vertical-align: middle;\n",
              "    }\n",
              "\n",
              "    .dataframe tbody tr th {\n",
              "        vertical-align: top;\n",
              "    }\n",
              "\n",
              "    .dataframe thead th {\n",
              "        text-align: right;\n",
              "    }\n",
              "</style>\n",
              "<table border=\"1\" class=\"dataframe\">\n",
              "  <thead>\n",
              "    <tr style=\"text-align: right;\">\n",
              "      <th></th>\n",
              "      <th>reviews_char_length</th>\n",
              "      <th>reviews_words_counts</th>\n",
              "    </tr>\n",
              "  </thead>\n",
              "  <tbody>\n",
              "    <tr>\n",
              "      <th>count</th>\n",
              "      <td>50000.000000</td>\n",
              "      <td>50000.000000</td>\n",
              "    </tr>\n",
              "    <tr>\n",
              "      <th>mean</th>\n",
              "      <td>1309.431020</td>\n",
              "      <td>231.156940</td>\n",
              "    </tr>\n",
              "    <tr>\n",
              "      <th>std</th>\n",
              "      <td>989.728014</td>\n",
              "      <td>171.343997</td>\n",
              "    </tr>\n",
              "    <tr>\n",
              "      <th>min</th>\n",
              "      <td>32.000000</td>\n",
              "      <td>4.000000</td>\n",
              "    </tr>\n",
              "    <tr>\n",
              "      <th>25%</th>\n",
              "      <td>699.000000</td>\n",
              "      <td>126.000000</td>\n",
              "    </tr>\n",
              "    <tr>\n",
              "      <th>50%</th>\n",
              "      <td>970.000000</td>\n",
              "      <td>173.000000</td>\n",
              "    </tr>\n",
              "    <tr>\n",
              "      <th>75%</th>\n",
              "      <td>1590.250000</td>\n",
              "      <td>280.000000</td>\n",
              "    </tr>\n",
              "    <tr>\n",
              "      <th>max</th>\n",
              "      <td>13704.000000</td>\n",
              "      <td>2470.000000</td>\n",
              "    </tr>\n",
              "  </tbody>\n",
              "</table>\n",
              "</div>"
            ],
            "text/plain": [
              "       reviews_char_length  reviews_words_counts\n",
              "count         50000.000000          50000.000000\n",
              "mean           1309.431020            231.156940\n",
              "std             989.728014            171.343997\n",
              "min              32.000000              4.000000\n",
              "25%             699.000000            126.000000\n",
              "50%             970.000000            173.000000\n",
              "75%            1590.250000            280.000000\n",
              "max           13704.000000           2470.000000"
            ]
          },
          "metadata": {
            "tags": []
          },
          "execution_count": 12
        }
      ]
    },
    {
      "cell_type": "code",
      "metadata": {
        "id": "ZhWDFldoRiG1",
        "outputId": "f13ce89f-671c-4616-a6ba-e4fe60ae1436",
        "colab": {
          "base_uri": "https://localhost:8080/",
          "height": 312
        }
      },
      "source": [
        "plt.hist(train_df[\"reviews_words_counts\"])\n",
        "plt.title(\"Training Data - Distribution of word counts in each review\")\n",
        "plt.xlabel(\"# of words in a review\")\n",
        "plt.ylabel(\"# of reviews\")\n",
        "plt.legend(\"Train\")"
      ],
      "execution_count": 13,
      "outputs": [
        {
          "output_type": "execute_result",
          "data": {
            "text/plain": [
              "<matplotlib.legend.Legend at 0x7ff1335b0198>"
            ]
          },
          "metadata": {
            "tags": []
          },
          "execution_count": 13
        },
        {
          "output_type": "display_data",
          "data": {
            "image/png": "[encoded data removed]",
            "text/plain": [
              "<Figure size 432x288 with 1 Axes>"
            ]
          },
          "metadata": {
            "tags": [],
            "needs_background": "light"
          }
        }
      ]
    },
    {
      "cell_type": "code",
      "metadata": {
        "id": "o2_1MObaSTef",
        "outputId": "1ba9f176-3b5a-4754-8c60-f088d8eb0dab",
        "colab": {
          "base_uri": "https://localhost:8080/",
          "height": 34
        }
      },
      "source": [
        "print(\"Training Data: Review with Max words - {}, Review with Min words - {}, Average # of words - {}\".format(train_df[\"reviews_words_counts\"].max(), \n",
        "                                                                                                                train_df[\"reviews_words_counts\"].min(), \n",
        "                                                                                                                train_df[\"reviews_words_counts\"].mean()))"
      ],
      "execution_count": 14,
      "outputs": [
        {
          "output_type": "stream",
          "text": [
            "Training Data: Review with Max words - 2470, Review with Min words - 4, Average # of words - 231.15694\n"
          ],
          "name": "stdout"
        }
      ]
    },
    {
      "cell_type": "code",
      "metadata": {
        "id": "QJvNjHlYUIFy",
        "outputId": "9da1990e-418d-4a1d-b02d-aa7ff6f2d574",
        "colab": {
          "base_uri": "https://localhost:8080/",
          "height": 34
        }
      },
      "source": [
        "max_count = 1000\n",
        "print(\"Check training data for number of reviews with >{} words: {}\".format(max_count,train_df.loc[train_df[\"reviews_words_counts\"]>max_count,\"reviews_words_counts\"].count()))"
      ],
      "execution_count": 15,
      "outputs": [
        {
          "output_type": "stream",
          "text": [
            "Check training data for number of reviews with >1000 words: 82\n"
          ],
          "name": "stdout"
        }
      ]
    },
    {
      "cell_type": "code",
      "metadata": {
        "id": "SKyBTGIEZIw-",
        "outputId": "16de7f34-a5f6-49d4-c663-1e1ef96a4819",
        "colab": {
          "base_uri": "https://localhost:8080/",
          "height": 119
        }
      },
      "source": [
        "# Checking training Quantile numbers\n",
        "train_df.reviews_words_counts.quantile([0.01,0.25,0.50,0.75, 0.99])"
      ],
      "execution_count": 16,
      "outputs": [
        {
          "output_type": "execute_result",
          "data": {
            "text/plain": [
              "0.01     42.0\n",
              "0.25    126.0\n",
              "0.50    173.0\n",
              "0.75    280.0\n",
              "0.99    908.0\n",
              "Name: reviews_words_counts, dtype: float64"
            ]
          },
          "metadata": {
            "tags": []
          },
          "execution_count": 16
        }
      ]
    },
    {
      "cell_type": "code",
      "metadata": {
        "id": "f2W2WpowTzXv",
        "outputId": "407155df-7eeb-4277-b494-b7030d3f254c",
        "colab": {
          "base_uri": "https://localhost:8080/",
          "height": 312
        }
      },
      "source": [
        "plt.hist(train_df['sentiment'])\n",
        "plt.title(\"Data - Sentiment Distribution\")\n",
        "plt.xlabel(\"Sentiments\")\n",
        "plt.ylabel(\"# of reviews\")"
      ],
      "execution_count": 17,
      "outputs": [
        {
          "output_type": "execute_result",
          "data": {
            "text/plain": [
              "Text(0, 0.5, '# of reviews')"
            ]
          },
          "metadata": {
            "tags": []
          },
          "execution_count": 17
        },
        {
          "output_type": "display_data",
          "data": {
            "image/png": "[encoded data removed]",
            "text/plain": [
              "<Figure size 432x288 with 1 Axes>"
            ]
          },
          "metadata": {
            "tags": [],
            "needs_background": "light"
          }
        }
      ]
    },
    {
      "cell_type": "markdown",
      "metadata": {
        "id": "wzOPuFbHU2c-"
      },
      "source": [
        "## Read the data from dataframe into sentences list for ease of processing"
      ]
    },
    {
      "cell_type": "code",
      "metadata": {
        "id": "zVlpd1rNE7E0"
      },
      "source": [
        "# Convert from data frame to list of sentences in lower case\n",
        "train_file_lines = [x.lower() for x in train_df['review']]"
      ],
      "execution_count": 18,
      "outputs": []
    },
    {
      "cell_type": "code",
      "metadata": {
        "id": "uCX0jVrYFFyL",
        "outputId": "8b685a1e-8903-459c-9bde-d73563073079",
        "colab": {
          "base_uri": "https://localhost:8080/",
          "height": 71
        }
      },
      "source": [
        "print(len(train_file_lines))\n",
        "print(train_file_lines[:2])"
      ],
      "execution_count": 19,
      "outputs": [
        {
          "output_type": "stream",
          "text": [
            "50000\n",
            "[\"one of the other reviewers has mentioned that after watching just 1 oz episode you'll be hooked. they are right, as this is exactly what happened with me.<br /><br />the first thing that struck me about oz was its brutality and unflinching scenes of violence, which set in right from the word go. trust me, this is not a show for the faint hearted or timid. this show pulls no punches with regards to drugs, sex or violence. its is hardcore, in the classic use of the word.<br /><br />it is called oz as that is the nickname given to the oswald maximum security state penitentary. it focuses mainly on emerald city, an experimental section of the prison where all the cells have glass fronts and face inwards, so privacy is not high on the agenda. em city is home to many..aryans, muslims, gangstas, latinos, christians, italians, irish and more....so scuffles, death stares, dodgy dealings and shady agreements are never far away.<br /><br />i would say the main appeal of the show is due to the fact that it goes where other shows wouldn't dare. forget pretty pictures painted for mainstream audiences, forget charm, forget romance...oz doesn't mess around. the first episode i ever saw struck me as so nasty it was surreal, i couldn't say i was ready for it, but as i watched more, i developed a taste for oz, and got accustomed to the high levels of graphic violence. not just violence, but injustice (crooked guards who'll be sold out for a nickel, inmates who'll kill on order and get away with it, well mannered, middle class inmates being turned into prison bitches due to their lack of street skills or prison experience) watching oz, you may become comfortable with what is uncomfortable viewing....thats if you can get in touch with your darker side.\", 'a wonderful little production. <br /><br />the filming technique is very unassuming- very old-time-bbc fashion and gives a comforting, and sometimes discomforting, sense of realism to the entire piece. <br /><br />the actors are extremely well chosen- michael sheen not only \"has got all the polari\" but he has all the voices down pat too! you can truly see the seamless editing guided by the references to williams\\' diary entries, not only is it well worth the watching but it is a terrificly written and performed piece. a masterful production about one of the great master\\'s of comedy and his life. <br /><br />the realism really comes home with the little things: the fantasy of the guard which, rather than use the traditional \\'dream\\' techniques remains solid then disappears. it plays on our knowledge and our senses, particularly with the scenes concerning orton and halliwell and the sets (particularly of their flat with halliwell\\'s murals decorating every surface) are terribly well done.']\n"
          ],
          "name": "stdout"
        }
      ]
    },
    {
      "cell_type": "code",
      "metadata": {
        "id": "yI7V46YlB6Jk",
        "outputId": "8c4a5502-a53d-4897-d6f1-328413a0ec3d",
        "colab": {
          "base_uri": "https://localhost:8080/",
          "height": 34
        }
      },
      "source": [
        "type(train_file_lines)"
      ],
      "execution_count": 20,
      "outputs": [
        {
          "output_type": "execute_result",
          "data": {
            "text/plain": [
              "list"
            ]
          },
          "metadata": {
            "tags": []
          },
          "execution_count": 20
        }
      ]
    },
    {
      "cell_type": "markdown",
      "metadata": {
        "id": "jcMDk6RYl-at"
      },
      "source": [
        "## Create Y-labels for both Train and Test"
      ]
    },
    {
      "cell_type": "code",
      "metadata": {
        "id": "QOHGgv5_ngww",
        "outputId": "4a4d7b3c-c227-46f1-c9e5-3c90091eb4d1",
        "colab": {
          "base_uri": "https://localhost:8080/",
          "height": 34
        }
      },
      "source": [
        "train_labels = [0 if sentiment == 'negative' else 1 for sentiment in train_df['sentiment']]\n",
        "print(train_labels[:5])"
      ],
      "execution_count": 21,
      "outputs": [
        {
          "output_type": "stream",
          "text": [
            "[1, 1, 1, 0, 1]\n"
          ],
          "name": "stdout"
        }
      ]
    },
    {
      "cell_type": "markdown",
      "metadata": {
        "id": "KYmKi_7NqfJg"
      },
      "source": [
        "## Text Data Pre-Processing"
      ]
    },
    {
      "cell_type": "markdown",
      "metadata": {
        "id": "2p7HTy99tFd-"
      },
      "source": [
        "### Replacing urls with the keyword \\\"url\\\""
      ]
    },
    {
      "cell_type": "code",
      "metadata": {
        "id": "cBhnDEJOtEE7"
      },
      "source": [
        "def replace_urls(line):\n",
        "    if 'www.' in line or 'http:' in line or 'https:' in line or '.com' in line:\n",
        "       line = re.sub(r\"([^ ]+(?<=\\.[a-z]{3}))\", \"url\", line)\n",
        "    return line"
      ],
      "execution_count": 22,
      "outputs": []
    },
    {
      "cell_type": "code",
      "metadata": {
        "id": "lTkUWhHwu4HH",
        "outputId": "eab6ec28-bf83-4ae9-8d3d-e86e3f5b5d70",
        "colab": {
          "base_uri": "https://localhost:8080/",
          "height": 34
        }
      },
      "source": [
        "test_line = 'asjhdgsajhdghttphttps://www.kaggle.com/anshulra'\n",
        "print(replace_urls(test_line))"
      ],
      "execution_count": 23,
      "outputs": [
        {
          "output_type": "stream",
          "text": [
            "url/anshulra\n"
          ],
          "name": "stdout"
        }
      ]
    },
    {
      "cell_type": "markdown",
      "metadata": {
        "id": "Y5JjWJUGw0qo"
      },
      "source": [
        "### Removing Html tags"
      ]
    },
    {
      "cell_type": "code",
      "metadata": {
        "id": "u4dY7Abcw37H",
        "outputId": "6d695b6b-b921-49d2-f18b-477bbf8e9cba",
        "colab": {
          "base_uri": "https://localhost:8080/",
          "height": 34
        }
      },
      "source": [
        "def strip_html_tags(text):\n",
        "    soup = BeautifulSoup(text, \"html.parser\")\n",
        "    stripped_text = soup.get_text()\n",
        "    return stripped_text\n",
        "\n",
        "print(strip_html_tags('<html><h2>Some important text</h2></html>'))"
      ],
      "execution_count": 24,
      "outputs": [
        {
          "output_type": "stream",
          "text": [
            "Some important text\n"
          ],
          "name": "stdout"
        }
      ]
    },
    {
      "cell_type": "markdown",
      "metadata": {
        "id": "9SY0675LxTqY"
      },
      "source": [
        "### Expanding Contractions"
      ]
    },
    {
      "cell_type": "code",
      "metadata": {
        "id": "uUpbgGV0B3Yq",
        "outputId": "ef53b442-fccc-427d-dcea-acfed64d2cbb",
        "colab": {
          "base_uri": "https://localhost:8080/",
          "height": 34
        }
      },
      "source": [
        "def expand_contractions(text):\n",
        "    try:\n",
        "        return contractions.fix(text)\n",
        "    except:\n",
        "        print(text)\n",
        "        pass\n",
        "print(expand_contractions(\"Y'all can't expand contractions I'd think\"))"
      ],
      "execution_count": 25,
      "outputs": [
        {
          "output_type": "stream",
          "text": [
            "you all can not expand contractions I would think\n"
          ],
          "name": "stdout"
        }
      ]
    },
    {
      "cell_type": "markdown",
      "metadata": {
        "id": "T_25q0wJxLSo"
      },
      "source": [
        "### Remove Accented characters"
      ]
    },
    {
      "cell_type": "code",
      "metadata": {
        "id": "Ca14o9yL0zSu",
        "outputId": "a83c4404-c743-45aa-e75a-e6725b2efc44",
        "colab": {
          "base_uri": "https://localhost:8080/",
          "height": 34
        }
      },
      "source": [
        "def remove_accented_chars(text):\n",
        "    try:\n",
        "        text = unicodedata.normalize('NFKD', text).encode('ascii', 'ignore').decode('utf-8', 'ignore')\n",
        "        return text\n",
        "    except:\n",
        "        print(text)\n",
        "        pass\n",
        "\n",
        "print(remove_accented_chars('Sómě Áccěntěd těxt'))"
      ],
      "execution_count": 26,
      "outputs": [
        {
          "output_type": "stream",
          "text": [
            "Some Accented text\n"
          ],
          "name": "stdout"
        }
      ]
    },
    {
      "cell_type": "markdown",
      "metadata": {
        "id": "QJjYVGOKxc9Z"
      },
      "source": [
        "### Removing Special Characters"
      ]
    },
    {
      "cell_type": "code",
      "metadata": {
        "id": "ndhp_tG11FGJ",
        "outputId": "37484d33-7f4f-4452-ab19-87e48fdc793d",
        "colab": {
          "base_uri": "https://localhost:8080/",
          "height": 35
        }
      },
      "source": [
        "def remove_special_characters(text, remove_digits=False):\n",
        "    try:\n",
        "        pattern = r'[^a-zA-z0-9\\s\\.,?!]' if not remove_digits else r'[^a-zA-z\\s\\.,?!]'\n",
        "        text = re.sub(pattern, '', text)\n",
        "        return text\n",
        "    except:\n",
        "        print(text)\n",
        "        pass\n",
        "\n",
        "remove_special_characters(\"Well this was fun! What do you think? 123#@! ^_.,\", \n",
        "                          remove_digits=False)"
      ],
      "execution_count": 27,
      "outputs": [
        {
          "output_type": "execute_result",
          "data": {
            "application/vnd.google.colaboratory.intrinsic+json": {
              "type": "string"
            },
            "text/plain": [
              "'Well this was fun! What do you think? 123! ^_.,'"
            ]
          },
          "metadata": {
            "tags": []
          },
          "execution_count": 27
        }
      ]
    },
    {
      "cell_type": "markdown",
      "metadata": {
        "id": "73LxpfjPxgEk"
      },
      "source": [
        "### Stemming"
      ]
    },
    {
      "cell_type": "code",
      "metadata": {
        "id": "wOSLVaen1TiY",
        "outputId": "3f91e0f0-8565-49c4-9f1d-33ca57ef58cd",
        "colab": {
          "base_uri": "https://localhost:8080/",
          "height": 35
        }
      },
      "source": [
        "def simple_stemmer(text):\n",
        "    try:\n",
        "        ps = nltk.porter.PorterStemmer()\n",
        "        text = ' '.join([ps.stem(word) for word in text.split()])\n",
        "        return text\n",
        "    except:\n",
        "        print(text)\n",
        "        pass\n",
        "\n",
        "simple_stemmer(\"My system keeps crashing his crashed yesterday, ours crashes daily\")"
      ],
      "execution_count": 28,
      "outputs": [
        {
          "output_type": "execute_result",
          "data": {
            "application/vnd.google.colaboratory.intrinsic+json": {
              "type": "string"
            },
            "text/plain": [
              "'My system keep crash hi crash yesterday, our crash daili'"
            ]
          },
          "metadata": {
            "tags": []
          },
          "execution_count": 28
        }
      ]
    },
    {
      "cell_type": "markdown",
      "metadata": {
        "id": "2qk055mgxj_z"
      },
      "source": [
        "### Lemmatization"
      ]
    },
    {
      "cell_type": "code",
      "metadata": {
        "id": "LmnQHTVm7fkv",
        "outputId": "d9e212be-b50f-4cce-ae1e-b62ff528c94d",
        "colab": {
          "base_uri": "https://localhost:8080/",
          "height": 35
        }
      },
      "source": [
        "wordnet_lemmatizer = WordNetLemmatizer()\n",
        "def lemmatize_text(text):\n",
        "    try:\n",
        "        text = ' '.join([wordnet_lemmatizer.lemmatize(word, pos=\"v\") for word in text.split()])\n",
        "        return text\n",
        "    except:\n",
        "        print(text)\n",
        "        pass\n",
        "lemmatize_text(\"My system keeps crashing ! his crashed yesterday, ours crashes daily\")"
      ],
      "execution_count": 29,
      "outputs": [
        {
          "output_type": "execute_result",
          "data": {
            "application/vnd.google.colaboratory.intrinsic+json": {
              "type": "string"
            },
            "text/plain": [
              "'My system keep crash ! his crash yesterday, ours crash daily'"
            ]
          },
          "metadata": {
            "tags": []
          },
          "execution_count": 29
        }
      ]
    },
    {
      "cell_type": "markdown",
      "metadata": {
        "id": "V0zRzpqOw7e5"
      },
      "source": [
        "### Remove Stopwords"
      ]
    },
    {
      "cell_type": "code",
      "metadata": {
        "id": "GZWmmtQOAAFz",
        "outputId": "81df9d4a-6f66-4247-ebc9-4137fe50f5d0",
        "colab": {
          "base_uri": "https://localhost:8080/",
          "height": 68
        }
      },
      "source": [
        "nltk.download('stopwords')"
      ],
      "execution_count": 30,
      "outputs": [
        {
          "output_type": "stream",
          "text": [
            "[nltk_data] Downloading package stopwords to /root/nltk_data...\n",
            "[nltk_data]   Unzipping corpora/stopwords.zip.\n"
          ],
          "name": "stdout"
        },
        {
          "output_type": "execute_result",
          "data": {
            "text/plain": [
              "True"
            ]
          },
          "metadata": {
            "tags": []
          },
          "execution_count": 30
        }
      ]
    },
    {
      "cell_type": "code",
      "metadata": {
        "id": "FOOKQqJu_pLd",
        "outputId": "bcf0163a-3b5c-44d5-ca5c-0fcec156cd32",
        "colab": {
          "base_uri": "https://localhost:8080/",
          "height": 54
        }
      },
      "source": [
        "toktoktokenizer = ToktokTokenizer()\n",
        "stopword_list = nltk.corpus.stopwords.words('english')\n",
        "print(stopword_list)"
      ],
      "execution_count": 31,
      "outputs": [
        {
          "output_type": "stream",
          "text": [
            "['i', 'me', 'my', 'myself', 'we', 'our', 'ours', 'ourselves', 'you', \"you're\", \"you've\", \"you'll\", \"you'd\", 'your', 'yours', 'yourself', 'yourselves', 'he', 'him', 'his', 'himself', 'she', \"she's\", 'her', 'hers', 'herself', 'it', \"it's\", 'its', 'itself', 'they', 'them', 'their', 'theirs', 'themselves', 'what', 'which', 'who', 'whom', 'this', 'that', \"that'll\", 'these', 'those', 'am', 'is', 'are', 'was', 'were', 'be', 'been', 'being', 'have', 'has', 'had', 'having', 'do', 'does', 'did', 'doing', 'a', 'an', 'the', 'and', 'but', 'if', 'or', 'because', 'as', 'until', 'while', 'of', 'at', 'by', 'for', 'with', 'about', 'against', 'between', 'into', 'through', 'during', 'before', 'after', 'above', 'below', 'to', 'from', 'up', 'down', 'in', 'out', 'on', 'off', 'over', 'under', 'again', 'further', 'then', 'once', 'here', 'there', 'when', 'where', 'why', 'how', 'all', 'any', 'both', 'each', 'few', 'more', 'most', 'other', 'some', 'such', 'no', 'nor', 'not', 'only', 'own', 'same', 'so', 'than', 'too', 'very', 's', 't', 'can', 'will', 'just', 'don', \"don't\", 'should', \"should've\", 'now', 'd', 'll', 'm', 'o', 're', 've', 'y', 'ain', 'aren', \"aren't\", 'couldn', \"couldn't\", 'didn', \"didn't\", 'doesn', \"doesn't\", 'hadn', \"hadn't\", 'hasn', \"hasn't\", 'haven', \"haven't\", 'isn', \"isn't\", 'ma', 'mightn', \"mightn't\", 'mustn', \"mustn't\", 'needn', \"needn't\", 'shan', \"shan't\", 'shouldn', \"shouldn't\", 'wasn', \"wasn't\", 'weren', \"weren't\", 'won', \"won't\", 'wouldn', \"wouldn't\"]\n"
          ],
          "name": "stdout"
        }
      ]
    },
    {
      "cell_type": "code",
      "metadata": {
        "id": "8ysZWEUDgO0V"
      },
      "source": [
        "custom_stopword_list = ['b', 'c', 'd', 'e', 'f', 'g', 'h', 'j', 'k', 'l', 'm', 'n', 'o', 'p', 'q', 'r', 's', 't', 'u', 'v', 'w', 'y', \"you're\", \"you've\", \"you'll\", \"you'd\", \"she's\", \"it's\", 'its', \"that'll\", 'don', \"don't\", \"should've\", 'ain', 'aren', \"aren't\", 'couldn', \"couldn't\", 'didn', \"didn't\", 'doesn', \"doesn't\", 'hadn', \"hadn't\", 'hasn', \"hasn't\", 'haven', \"haven't\", 'isn', \"isn't\", 'ma', 'mightn', \"mightn't\", 'mustn', \"mustn't\", 'needn', \"needn't\", 'shan', \"shan't\", 'shouldn', \"shouldn't\", 'wasn', \"wasn't\", 'weren', \"weren't\", \"won't\", 'wouldn', \"wouldn't\"]"
      ],
      "execution_count": 32,
      "outputs": []
    },
    {
      "cell_type": "code",
      "metadata": {
        "id": "SiRGcSQMxGVG",
        "outputId": "3e1705c6-9d46-4b32-8267-1cbff6ac106b",
        "colab": {
          "base_uri": "https://localhost:8080/",
          "height": 35
        }
      },
      "source": [
        "def remove_stopwords(text):\n",
        "    try:\n",
        "        tokens = toktoktokenizer.tokenize(text)\n",
        "        tokens = [token.strip() for token in tokens]\n",
        "        filtered_tokens = [token for token in tokens if token not in custom_stopword_list]\n",
        "        filtered_text = ' '.join(filtered_tokens)    \n",
        "        return filtered_text\n",
        "    except:\n",
        "        print(text)\n",
        "        pass\n",
        "\n",
        "remove_stopwords(\"a, t, the, and, if are stopwords, computer is not\")"
      ],
      "execution_count": 33,
      "outputs": [
        {
          "output_type": "execute_result",
          "data": {
            "application/vnd.google.colaboratory.intrinsic+json": {
              "type": "string"
            },
            "text/plain": [
              "'a , , the , and , if are stopwords , computer is not'"
            ]
          },
          "metadata": {
            "tags": []
          },
          "execution_count": 33
        }
      ]
    },
    {
      "cell_type": "markdown",
      "metadata": {
        "id": "5ig4BtE_D7K1"
      },
      "source": [
        "### Pre-processing now selectively"
      ]
    },
    {
      "cell_type": "code",
      "metadata": {
        "id": "Sd_PPL8oD6YG"
      },
      "source": [
        "def normalize_corpus(corpus, remove_url=True, html_stripping=True, contraction_expansion=True,\n",
        "                     accented_char_removal=True, special_char_removal=True, text_stemming=False,\n",
        "                     text_lemmatization=True, stopword_removal=True):\n",
        "    \n",
        "    normalized_corpus = []\n",
        "    # normalize each document in the corpus\n",
        "    for doc in corpus:\n",
        "\n",
        "        if remove_url:\n",
        "            doc = replace_urls(doc)\n",
        "\n",
        "        if html_stripping:\n",
        "            doc = strip_html_tags(doc)\n",
        "\n",
        "        if contraction_expansion:\n",
        "            doc = expand_contractions(doc)\n",
        "\n",
        "        if accented_char_removal:\n",
        "            doc = remove_accented_chars(doc)\n",
        "            \n",
        "        if special_char_removal:\n",
        "            doc = remove_special_characters(doc, remove_digits=False)      \n",
        "\n",
        "        # remove extra newlines\n",
        "        try:\n",
        "            doc = re.sub(r'[\\r|\\n|\\r\\n]+', ' ',doc)\n",
        "        except:\n",
        "            print(doc)\n",
        "\n",
        "        if text_stemming:\n",
        "            doc = simple_stemmer(doc)\n",
        "\n",
        "        if text_lemmatization:\n",
        "            doc = lemmatize_text(doc)\n",
        "\n",
        "        # remove extra whitespace\n",
        "        try:\n",
        "            doc = re.sub(' +', ' ', doc)\n",
        "        except:\n",
        "            print(doc)\n",
        "\n",
        "        if stopword_removal:\n",
        "            doc = remove_stopwords(doc)\n",
        "            \n",
        "        normalized_corpus.append(doc)\n",
        "        \n",
        "    return normalized_corpus"
      ],
      "execution_count": 34,
      "outputs": []
    },
    {
      "cell_type": "code",
      "metadata": {
        "id": "unBhUgJ8T2Rn"
      },
      "source": [
        "train_sentences = normalize_corpus(train_file_lines)"
      ],
      "execution_count": 35,
      "outputs": []
    },
    {
      "cell_type": "code",
      "metadata": {
        "id": "DtmWU4NAHvIU",
        "outputId": "8efd53c3-34a2-44c4-c80d-67c7c47b8f52",
        "colab": {
          "base_uri": "https://localhost:8080/",
          "height": 71
        }
      },
      "source": [
        "print(len(train_sentences))\n",
        "print(train_sentences[:5])"
      ],
      "execution_count": 36,
      "outputs": [
        {
          "output_type": "stream",
          "text": [
            "50000\n",
            "['one of the other reviewers have mention that after watch just 1 oz episode you will be hooked. they be right , as this be exactly what happen with me.the first thing that strike me about oz be brutality and unflinching scenes of violence , which set in right from the word go. trust me , this be not a show for the faint hearted or timid. this show pull no punch with regard to drugs , sex or violence. be hardcore , in the classic use of the word.it be call oz as that be the nickname give to the oswald maximum security state penitentary. it focus mainly on emerald city , an experimental section of the prison where all the cells have glass front and face inwards , so privacy be not high on the agenda. em city be home to many .. aryans , muslims , gangstas , latinos , christians , italians , irish and more .... so scuffles , death stares , dodgy deal and shady agreements be never far away.i would say the main appeal of the show be due to the fact that it go where other show would not dare. forget pretty picture paint for mainstream audiences , forget charm , forget romance ... oz do not mess around. the first episode i ever saw strike me as so nasty it be surreal , i could not say i be ready for it , but as i watch more , i develop a taste for oz , and get accustom to the high level of graphic violence. not just violence , but injustice crook guard who will be sell out for a nickel , inmates who will kill on order and get away with it , well mannered , middle class inmates be turn into prison bitch due to their lack of street skills or prison experience watch oz , you may become comfortable with what be uncomfortable viewing .... that be if you can get in touch with your darker side .', 'a wonderful little production. the film technique be very unassuming very oldtimebbc fashion and give a comforting , and sometimes discomforting , sense of realism to the entire piece. the actors be extremely well choose michael sheen not only have get all the polari but he have all the voice down pat too ! you can truly see the seamless edit guide by the reference to williams diary entries , not only be it well worth the watch but it be a terrificly write and perform piece. a masterful production about one of the great master of comedy and his life. the realism really come home with the little things the fantasy of the guard which , rather than use the traditional dream techniques remain solid then disappears. it play on our knowledge and our senses , particularly with the scenes concern orton and halliwell and the set particularly of their flat with halliwells murals decorate every surface be terribly well done .', 'i think this be a wonderful way to spend time on a too hot summer weekend , sit in the air condition theater and watch a lighthearted comedy. the plot be simplistic , but the dialogue be witty and the character be likable even the well bread suspect serial killer. while some may be disappoint when they realize this be not match point 2 risk addiction , i think it be proof that woody allen be still fully in control of the style many of us have grow to love.this be the most I would laugh at one of woodys comedies in years dare i say a decade?. while I have never be impress with scarlet johanson , in this she manage to tone down her sexy image and jump right into a average , but spirit young woman.this may not be the crown jewel of his career , but it be wittier than devil wear prada and more interest than superman a great comedy to go see with friends .', 'basically there be a family where a little boy jake think there be a zombie in his closet his parent be fight all the time.this movie be slower than a soap opera ... and suddenly , jake decide to become rambo and kill the zombie.ok , first of all when you be go to make a film you must decide if a thriller or a drama ! as a drama the movie be watchable. parent be divorce argue like in real life. and then we have jake with his closet which totally ruin all the film ! i expect to see a boogeyman similar movie , and instead i watch a drama with some meaningless thriller spots.3 out of 10 just for the well play parent descent dialogs. as for the shots with jake just ignore them .', 'petter matteis love in the time of money be a visually stun film to watch. mr. mattei offer us a vivid portrait about human relations. this be a movie that seem to be tell us what money , power and success do to people in the different situations we encounter. this be a variation on the arthur schnitzlers play about the same theme , the director transfer the action to the present time new york where all these different character meet and connect. each one be connect in one way , or another to the next person , but no one seem to know the previous point of contact. stylishly , the film have a sophisticate luxurious look. we be take to see how these people live and the world they live in their own habitat.the only thing one get out of all these souls in the picture be the different stag of loneliness each one inhabits. a big city be not exactly the best place in which human relations find sincere fulfillment , as one discern be the case with most of the people we encounter.the act be good under mr. matteis direction. steve buscemi , rosario dawson , carol kane , michael imperioli , adrian grenier , and the rest of the talented cast , make these character come alive.we wish mr. mattei good luck and await anxiously for his next work .']\n"
          ],
          "name": "stdout"
        }
      ]
    },
    {
      "cell_type": "code",
      "metadata": {
        "id": "ZgbWp5AOYZp2",
        "outputId": "12d89429-41e2-4753-9b5e-0437130e9d35",
        "colab": {
          "base_uri": "https://localhost:8080/",
          "height": 71
        }
      },
      "source": [
        "train_sentences[0:2]"
      ],
      "execution_count": 37,
      "outputs": [
        {
          "output_type": "execute_result",
          "data": {
            "text/plain": [
              "['one of the other reviewers have mention that after watch just 1 oz episode you will be hooked. they be right , as this be exactly what happen with me.the first thing that strike me about oz be brutality and unflinching scenes of violence , which set in right from the word go. trust me , this be not a show for the faint hearted or timid. this show pull no punch with regard to drugs , sex or violence. be hardcore , in the classic use of the word.it be call oz as that be the nickname give to the oswald maximum security state penitentary. it focus mainly on emerald city , an experimental section of the prison where all the cells have glass front and face inwards , so privacy be not high on the agenda. em city be home to many .. aryans , muslims , gangstas , latinos , christians , italians , irish and more .... so scuffles , death stares , dodgy deal and shady agreements be never far away.i would say the main appeal of the show be due to the fact that it go where other show would not dare. forget pretty picture paint for mainstream audiences , forget charm , forget romance ... oz do not mess around. the first episode i ever saw strike me as so nasty it be surreal , i could not say i be ready for it , but as i watch more , i develop a taste for oz , and get accustom to the high level of graphic violence. not just violence , but injustice crook guard who will be sell out for a nickel , inmates who will kill on order and get away with it , well mannered , middle class inmates be turn into prison bitch due to their lack of street skills or prison experience watch oz , you may become comfortable with what be uncomfortable viewing .... that be if you can get in touch with your darker side .',\n",
              " 'a wonderful little production. the film technique be very unassuming very oldtimebbc fashion and give a comforting , and sometimes discomforting , sense of realism to the entire piece. the actors be extremely well choose michael sheen not only have get all the polari but he have all the voice down pat too ! you can truly see the seamless edit guide by the reference to williams diary entries , not only be it well worth the watch but it be a terrificly write and perform piece. a masterful production about one of the great master of comedy and his life. the realism really come home with the little things the fantasy of the guard which , rather than use the traditional dream techniques remain solid then disappears. it play on our knowledge and our senses , particularly with the scenes concern orton and halliwell and the set particularly of their flat with halliwells murals decorate every surface be terribly well done .']"
            ]
          },
          "metadata": {
            "tags": []
          },
          "execution_count": 37
        }
      ]
    },
    {
      "cell_type": "code",
      "metadata": {
        "id": "AoSSSGijX0nZ"
      },
      "source": [
        "# union_set = set()\n",
        "# for sentence in train_sentences:\n",
        "#     union_set = union_set | set(sentence.split())\n",
        "# print(len(union_set))"
      ],
      "execution_count": 38,
      "outputs": []
    },
    {
      "cell_type": "markdown",
      "metadata": {
        "id": "Jnvm7No5lDvY"
      },
      "source": [
        "234196"
      ]
    },
    {
      "cell_type": "markdown",
      "metadata": {
        "id": "yHAfNlWWD9Lg"
      },
      "source": [
        "## Modeling"
      ]
    },
    {
      "cell_type": "code",
      "metadata": {
        "id": "rERXR9TdIJks"
      },
      "source": [
        "vocab_size = 50000\n",
        "max_length = 1000\n",
        "trunc_type = 'post'\n",
        "oov_tok=\"<oov>\""
      ],
      "execution_count": 39,
      "outputs": []
    },
    {
      "cell_type": "code",
      "metadata": {
        "id": "0dC-2Oui8I8r"
      },
      "source": [
        "tokenizer = text.Tokenizer(num_words=vocab_size, oov_token=oov_tok)\n",
        "tokenizer.fit_on_texts(train_sentences)\n",
        "word_index = tokenizer.word_index"
      ],
      "execution_count": 40,
      "outputs": []
    },
    {
      "cell_type": "code",
      "metadata": {
        "id": "WNi6knQ7ZA_c"
      },
      "source": [
        "sequences = tokenizer.texts_to_sequences(train_sentences)\n",
        "training_padded = sequence.pad_sequences(sequences, maxlen=max_length, truncating=trunc_type)"
      ],
      "execution_count": 41,
      "outputs": []
    },
    {
      "cell_type": "code",
      "metadata": {
        "id": "L7fE2wuJ8Jl_",
        "outputId": "82cb252b-17b1-4c02-c346-8ab2c4797260",
        "colab": {
          "base_uri": "https://localhost:8080/",
          "height": 1000
        }
      },
      "source": [
        "training_padded[0]"
      ],
      "execution_count": 42,
      "outputs": [
        {
          "output_type": "execute_result",
          "data": {
            "text/plain": [
              "array([    0,     0,     0,     0,     0,     0,     0,     0,     0,\n",
              "           0,     0,     0,     0,     0,     0,     0,     0,     0,\n",
              "           0,     0,     0,     0,     0,     0,     0,     0,     0,\n",
              "           0,     0,     0,     0,     0,     0,     0,     0,     0,\n",
              "           0,     0,     0,     0,     0,     0,     0,     0,     0,\n",
              "           0,     0,     0,     0,     0,     0,     0,     0,     0,\n",
              "           0,     0,     0,     0,     0,     0,     0,     0,     0,\n",
              "           0,     0,     0,     0,     0,     0,     0,     0,     0,\n",
              "           0,     0,     0,     0,     0,     0,     0,     0,     0,\n",
              "           0,     0,     0,     0,     0,     0,     0,     0,     0,\n",
              "           0,     0,     0,     0,     0,     0,     0,     0,     0,\n",
              "           0,     0,     0,     0,     0,     0,     0,     0,     0,\n",
              "           0,     0,     0,     0,     0,     0,     0,     0,     0,\n",
              "           0,     0,     0,     0,     0,     0,     0,     0,     0,\n",
              "           0,     0,     0,     0,     0,     0,     0,     0,     0,\n",
              "           0,     0,     0,     0,     0,     0,     0,     0,     0,\n",
              "           0,     0,     0,     0,     0,     0,     0,     0,     0,\n",
              "           0,     0,     0,     0,     0,     0,     0,     0,     0,\n",
              "           0,     0,     0,     0,     0,     0,     0,     0,     0,\n",
              "           0,     0,     0,     0,     0,     0,     0,     0,     0,\n",
              "           0,     0,     0,     0,     0,     0,     0,     0,     0,\n",
              "           0,     0,     0,     0,     0,     0,     0,     0,     0,\n",
              "           0,     0,     0,     0,     0,     0,     0,     0,     0,\n",
              "           0,     0,     0,     0,     0,     0,     0,     0,     0,\n",
              "           0,     0,     0,     0,     0,     0,     0,     0,     0,\n",
              "           0,     0,     0,     0,     0,     0,     0,     0,     0,\n",
              "           0,     0,     0,     0,     0,     0,     0,     0,     0,\n",
              "           0,     0,     0,     0,     0,     0,     0,     0,     0,\n",
              "           0,     0,     0,     0,     0,     0,     0,     0,     0,\n",
              "           0,     0,     0,     0,     0,     0,     0,     0,     0,\n",
              "           0,     0,     0,     0,     0,     0,     0,     0,     0,\n",
              "           0,     0,     0,     0,     0,     0,     0,     0,     0,\n",
              "           0,     0,     0,     0,     0,     0,     0,     0,     0,\n",
              "           0,     0,     0,     0,     0,     0,     0,     0,     0,\n",
              "           0,     0,     0,     0,     0,     0,     0,     0,     0,\n",
              "           0,     0,     0,     0,     0,     0,     0,     0,     0,\n",
              "           0,     0,     0,     0,     0,     0,     0,     0,     0,\n",
              "           0,     0,     0,     0,     0,     0,     0,     0,     0,\n",
              "           0,     0,     0,     0,     0,     0,     0,     0,     0,\n",
              "           0,     0,     0,     0,     0,     0,     0,     0,     0,\n",
              "           0,     0,     0,     0,     0,     0,     0,     0,     0,\n",
              "           0,     0,     0,     0,     0,     0,     0,     0,     0,\n",
              "           0,     0,     0,     0,     0,     0,     0,     0,     0,\n",
              "           0,     0,     0,     0,     0,     0,     0,     0,     0,\n",
              "           0,     0,     0,     0,     0,     0,     0,     0,     0,\n",
              "           0,     0,     0,     0,     0,     0,     0,     0,     0,\n",
              "           0,     0,     0,     0,     0,     0,     0,     0,     0,\n",
              "           0,     0,     0,     0,     0,     0,     0,     0,     0,\n",
              "           0,     0,     0,     0,     0,     0,     0,     0,     0,\n",
              "           0,     0,     0,     0,     0,     0,     0,     0,     0,\n",
              "           0,     0,     0,     0,     0,     0,     0,     0,     0,\n",
              "           0,     0,     0,     0,     0,     0,     0,     0,     0,\n",
              "           0,     0,     0,     0,     0,     0,     0,     0,     0,\n",
              "           0,     0,     0,     0,     0,     0,     0,     0,     0,\n",
              "           0,     0,     0,     0,     0,     0,     0,     0,     0,\n",
              "           0,     0,     0,     0,     0,     0,     0,     0,     0,\n",
              "           0,     0,     0,     0,     0,     0,     0,     0,     0,\n",
              "           0,     0,     0,     0,     0,     0,     0,     0,     0,\n",
              "           0,     0,     0,     0,     0,     0,     0,     0,     0,\n",
              "           0,     0,     0,     0,     0,     0,     0,     0,     0,\n",
              "           0,     0,     0,     0,     0,     0,     0,     0,     0,\n",
              "           0,     0,     0,     0,     0,     0,     0,     0,     0,\n",
              "           0,     0,     0,     0,     0,     0,     0,     0,     0,\n",
              "           0,     0,     0,     0,     0,     0,     0,     0,     0,\n",
              "           0,     0,     0,     0,     0,     0,     0,     0,     0,\n",
              "           0,     0,     0,     0,     0,     0,     0,     0,     0,\n",
              "           0,     0,     0,     0,     0,     0,     0,     0,     0,\n",
              "           0,     0,     0,     0,     0,     0,     0,     0,     0,\n",
              "           0,     0,     0,     0,     0,     0,     0,     0,     0,\n",
              "           0,     0,     0,     0,     0,     0,     0,     0,     0,\n",
              "           0,     0,     0,     0,     0,     0,     0,     0,     0,\n",
              "           0,     0,     0,     0,     0,     0,     0,     0,     0,\n",
              "           0,     0,     0,     0,     0,     0,     0,     0,     0,\n",
              "           0,     0,     0,     0,     0,     0,     0,     0,     0,\n",
              "           0,     0,     0,     0,     0,     0,     0,     0,     0,\n",
              "           0,     0,     0,     0,     0,     0,     0,     0,     0,\n",
              "           0,     0,     0,    26,     6,     2,    82,  1785,    14,\n",
              "         437,    12,   104,    58,    41,   417,  2794,   390,    22,\n",
              "          56,     3,  6703,    29,     3,   184,    15,    11,     3,\n",
              "         587,    46,   215,    17,    70,     2,    90,   143,    12,\n",
              "        1104,    70,    43,  2794,     3,  4839,     4, 13335,   130,\n",
              "           6,   564,    65,   186,     9,   184,    35,     2,   404,\n",
              "          57,  1377,    70,    11,     3,    13,     5,    72,    18,\n",
              "           2,  5918,  5085,    40, 10184,    11,    72,   623,    62,\n",
              "        1835,    17,  1131,     7,  2680,   374,    40,   564,     3,\n",
              "        3054,     9,     2,   345,   135,     6,     2,   404,     8,\n",
              "           3,   236,  2794,    15,    12,     3,     2,  7008,    91,\n",
              "           7,     2, 13856,  6072,  2317,   634,     1,     8,   615,\n",
              "        1298,    23, 21634,   527,    32,  4271,  2002,     6,     2,\n",
              "        1128,   113,    28,     2,  6194,    14,  2033,   916,     4,\n",
              "         304,     1,    36, 14774,     3,    13,   315,    23,     2,\n",
              "        4392,  7797,   527,     3,   330,     7,   107, 22548,  7313,\n",
              "       34655, 13336,  4585,  6857,  2261,     4,    53,    36,     1,\n",
              "         316, 21635,  6503,   426,     4,  7643, 29621,     3,   111,\n",
              "         217,   229,    10,    48,    88,     2,   269,   881,     6,\n",
              "           2,    72,     3,   644,     7,     2,   181,    12,     8,\n",
              "          57,   113,    82,    72,    48,    13,  1566,   487,   172,\n",
              "         343,  1167,    18,  2269,  1026,   487,   754,   487,   793,\n",
              "        2794,    21,    13,   750,   175,     2,    90,   390,    10,\n",
              "         118,   199,  1104,    70,    15,    36,  1469,     8,     3,\n",
              "        2028,    10,    78,    13,    88,    10,     3,  1445,    18,\n",
              "           8,    20,    15,    10,    58,    53,    10,   787,     5,\n",
              "        1065,    18,  2794,     4,    39,  8958,     7,     2,   315,\n",
              "         558,     6,  1936,   564,    13,    41,   564,    20,  6747,\n",
              "        3345,  1876,    34,    56,     3,   955,    45,    18,     5,\n",
              "       24817,  6027,    34,    56,   188,    23,   524,     4,    39,\n",
              "         229,    17,     8,    73,  8665,   722,   709,  6027,     3,\n",
              "         170,    85,  1128,  4564,   644,     7,    68,   349,     6,\n",
              "         882,  1790,    40,  1128,   411,    58,  2794,    22,   190,\n",
              "         166,  3380,    17,    46,     3,  2924,  2015,    12,     3,\n",
              "          44,    22,    49,    39,     9,   544,    17,   119,  3613,\n",
              "         442], dtype=int32)"
            ]
          },
          "metadata": {
            "tags": []
          },
          "execution_count": 42
        }
      ]
    },
    {
      "cell_type": "code",
      "metadata": {
        "id": "ZbT4IZg08Jxi"
      },
      "source": [
        "reverse_word_index = dict([(value,key) for (key,value) in word_index.items()])"
      ],
      "execution_count": 43,
      "outputs": []
    },
    {
      "cell_type": "code",
      "metadata": {
        "id": "mhR_7Ls_E77i"
      },
      "source": [
        "from sklearn.model_selection import train_test_split\n",
        "X, X_valid, y, y_valid = train_test_split(training_padded, train_labels, test_size=0.10, shuffle = True)\n",
        "X_train, X_test, y_train, y_test = train_test_split(X, y, test_size=0.20, shuffle = True)"
      ],
      "execution_count": 44,
      "outputs": []
    },
    {
      "cell_type": "code",
      "metadata": {
        "id": "vUcoTZbmGKnV"
      },
      "source": [
        "X_train = np.array(X_train)\n",
        "X_test = np.array(X_test)\n",
        "y_train = np.array(y_train)\n",
        "y_test = np.array(y_test)"
      ],
      "execution_count": 45,
      "outputs": []
    },
    {
      "cell_type": "code",
      "metadata": {
        "id": "a5iBcAot8Jjw"
      },
      "source": [
        "embedding_dim = 500\n",
        "batch_size = 256\n",
        "epochs = 20\n",
        "l2_factor = 0.0001\n",
        "learning_rate = 0.0001"
      ],
      "execution_count": 63,
      "outputs": []
    },
    {
      "cell_type": "code",
      "metadata": {
        "id": "kzb4WRq4O6CR",
        "outputId": "2f21bc6f-a4d0-40b7-ed5e-0159b5f00eab",
        "colab": {
          "base_uri": "https://localhost:8080/",
          "height": 425
        }
      },
      "source": [
        "model = tf.keras.Sequential([\n",
        "                             tf.keras.layers.Embedding(vocab_size, embedding_dim, input_length=max_length),\n",
        "                             tf.keras.layers.Bidirectional(tf.keras.layers.LSTM(128, kernel_regularizer=l2(l2_factor), bias_regularizer=l2(l2_factor), kernel_constraint=MaxNorm(10), bias_constraint=MaxNorm(10), return_sequences=True)),\n",
        "                             tf.keras.layers.Dropout(0.5),\n",
        "                             tf.keras.layers.Bidirectional(tf.keras.layers.LSTM(128, kernel_regularizer=l2(l2_factor), bias_regularizer=l2(l2_factor), kernel_constraint=MaxNorm(10), bias_constraint=MaxNorm(10))),\n",
        "                             tf.keras.layers.Dropout(0.5),\n",
        "                             tf.keras.layers.Dense(64, activation='relu'),\n",
        "                             tf.keras.layers.Dropout(0.5),\n",
        "                             tf.keras.layers.Dense(1, activation='sigmoid')\n",
        "])\n",
        "optimizer = tf.keras.optimizers.Adam(lr=learning_rate)\n",
        "model.compile(loss = 'binary_crossentropy', optimizer=optimizer, metrics=['acc'])\n",
        "model.summary()"
      ],
      "execution_count": 69,
      "outputs": [
        {
          "output_type": "stream",
          "text": [
            "Model: \"sequential_5\"\n",
            "_________________________________________________________________\n",
            "Layer (type)                 Output Shape              Param #   \n",
            "=================================================================\n",
            "embedding_5 (Embedding)      (None, 1000, 500)         25000000  \n",
            "_________________________________________________________________\n",
            "bidirectional_10 (Bidirectio (None, 1000, 256)         644096    \n",
            "_________________________________________________________________\n",
            "dropout_15 (Dropout)         (None, 1000, 256)         0         \n",
            "_________________________________________________________________\n",
            "bidirectional_11 (Bidirectio (None, 256)               394240    \n",
            "_________________________________________________________________\n",
            "dropout_16 (Dropout)         (None, 256)               0         \n",
            "_________________________________________________________________\n",
            "dense_10 (Dense)             (None, 64)                16448     \n",
            "_________________________________________________________________\n",
            "dropout_17 (Dropout)         (None, 64)                0         \n",
            "_________________________________________________________________\n",
            "dense_11 (Dense)             (None, 1)                 65        \n",
            "=================================================================\n",
            "Total params: 26,054,849\n",
            "Trainable params: 26,054,849\n",
            "Non-trainable params: 0\n",
            "_________________________________________________________________\n"
          ],
          "name": "stdout"
        }
      ]
    },
    {
      "cell_type": "code",
      "metadata": {
        "id": "qYWkLPB7BlRX"
      },
      "source": [
        "weight_path=\"/content/drive/My Drive/kaggle/imdb-reviews-sentiment-analysis/early_weights_10012020_1.hdf5\"\n",
        "checkpoint = ModelCheckpoint(weight_path, monitor='val_acc', verbose=1, save_best_only=True, mode='max')\n",
        "early_stopping = EarlyStopping(monitor=\"val_acc\", mode=\"max\", patience=5)\n",
        "callbacks = [checkpoint, early_stopping]"
      ],
      "execution_count": 70,
      "outputs": []
    },
    {
      "cell_type": "code",
      "metadata": {
        "id": "JkUQg1SsBlN4",
        "outputId": "9ff9f570-a126-4b40-9ad4-906d633d40ae",
        "colab": {
          "base_uri": "https://localhost:8080/",
          "height": 578
        }
      },
      "source": [
        "model.fit(X_train, y_train, batch_size=batch_size, epochs=epochs, validation_data=(X_test, y_test), callbacks=callbacks, workers=4)"
      ],
      "execution_count": 71,
      "outputs": [
        {
          "output_type": "stream",
          "text": [
            "Epoch 1/20\n",
            "141/141 [==============================] - ETA: 0s - loss: 0.8269 - acc: 0.5967\n",
            "Epoch 00001: val_acc improved from -inf to 0.81511, saving model to /content/drive/My Drive/kaggle/imdb-reviews-sentiment-analysis/early_weights_10012020_1.hdf5\n",
            "141/141 [==============================] - 123s 874ms/step - loss: 0.8269 - acc: 0.5967 - val_loss: 0.5704 - val_acc: 0.8151\n",
            "Epoch 2/20\n",
            "141/141 [==============================] - ETA: 0s - loss: 0.4363 - acc: 0.8859\n",
            "Epoch 00002: val_acc improved from 0.81511 to 0.89433, saving model to /content/drive/My Drive/kaggle/imdb-reviews-sentiment-analysis/early_weights_10012020_1.hdf5\n",
            "141/141 [==============================] - 123s 870ms/step - loss: 0.4363 - acc: 0.8859 - val_loss: 0.3823 - val_acc: 0.8943\n",
            "Epoch 3/20\n",
            "141/141 [==============================] - ETA: 0s - loss: 0.2888 - acc: 0.9412\n",
            "Epoch 00003: val_acc improved from 0.89433 to 0.89567, saving model to /content/drive/My Drive/kaggle/imdb-reviews-sentiment-analysis/early_weights_10012020_1.hdf5\n",
            "141/141 [==============================] - 123s 874ms/step - loss: 0.2888 - acc: 0.9412 - val_loss: 0.3815 - val_acc: 0.8957\n",
            "Epoch 4/20\n",
            "141/141 [==============================] - ETA: 0s - loss: 0.2091 - acc: 0.9677\n",
            "Epoch 00004: val_acc did not improve from 0.89567\n",
            "141/141 [==============================] - 120s 852ms/step - loss: 0.2091 - acc: 0.9677 - val_loss: 0.4443 - val_acc: 0.8854\n",
            "Epoch 5/20\n",
            "141/141 [==============================] - ETA: 0s - loss: 0.1583 - acc: 0.9826\n",
            "Epoch 00005: val_acc did not improve from 0.89567\n",
            "141/141 [==============================] - 120s 851ms/step - loss: 0.1583 - acc: 0.9826 - val_loss: 0.4704 - val_acc: 0.8874\n",
            "Epoch 6/20\n",
            "141/141 [==============================] - ETA: 0s - loss: 0.1255 - acc: 0.9917\n",
            "Epoch 00006: val_acc did not improve from 0.89567\n",
            "141/141 [==============================] - 120s 849ms/step - loss: 0.1255 - acc: 0.9917 - val_loss: 0.5465 - val_acc: 0.8862\n",
            "Epoch 7/20\n",
            "141/141 [==============================] - ETA: 0s - loss: 0.1125 - acc: 0.9934\n",
            "Epoch 00007: val_acc did not improve from 0.89567\n",
            "141/141 [==============================] - 120s 852ms/step - loss: 0.1125 - acc: 0.9934 - val_loss: 0.6303 - val_acc: 0.8847\n",
            "Epoch 8/20\n",
            "141/141 [==============================] - ETA: 0s - loss: 0.1056 - acc: 0.9933\n",
            "Epoch 00008: val_acc did not improve from 0.89567\n",
            "141/141 [==============================] - 120s 848ms/step - loss: 0.1056 - acc: 0.9933 - val_loss: 0.5958 - val_acc: 0.8791\n"
          ],
          "name": "stdout"
        },
        {
          "output_type": "execute_result",
          "data": {
            "text/plain": [
              "<tensorflow.python.keras.callbacks.History at 0x7feca7c43780>"
            ]
          },
          "metadata": {
            "tags": []
          },
          "execution_count": 71
        }
      ]
    },
    {
      "cell_type": "markdown",
      "metadata": {
        "id": "BBItzXyArAX3"
      },
      "source": [
        "Epoch 1/10\n",
        "71/71 [==============================] - ETA: 0s - loss: 0.6518 - acc: 0.7098\n",
        "Epoch 00001: val_loss improved from inf to 0.45174, saving model to /content/drive/My Drive/kaggle/imdb-reviews-sentiment-analysis/early_weights_10012020_1.hdf5\n",
        "71/71 [==============================] - 58s 818ms/step - loss: 0.6518 - acc: 0.7098 - val_loss: 0.4517 - val_acc: 0.8414\n",
        "Epoch 2/10\n",
        "71/71 [==============================] - ETA: 0s - loss: 0.3494 - acc: 0.8886\n",
        "Epoch 00002: val_loss improved from 0.45174 to 0.37697, saving model to /content/drive/My Drive/kaggle/imdb-reviews-sentiment-analysis/early_weights_10012020_1.hdf5\n",
        "71/71 [==============================] - 60s 839ms/step - loss: 0.3494 - acc: 0.8886 - val_loss: 0.3770 - val_acc: 0.8683\n",
        "Epoch 3/10\n",
        "71/71 [==============================] - ETA: 0s - loss: 0.2257 - acc: 0.9398\n",
        "Epoch 00003: val_loss did not improve from 0.37697\n",
        "71/71 [==============================] - 57s 799ms/step - loss: 0.2257 - acc: 0.9398 - val_loss: 0.3814 - val_acc: 0.8808\n",
        "Epoch 4/10\n",
        "71/71 [==============================] - ETA: 0s - loss: 0.1739 - acc: 0.9588\n",
        "Epoch 00004: val_loss did not improve from 0.37697\n",
        "71/71 [==============================] - 57s 800ms/step - loss: 0.1739 - acc: 0.9588 - val_loss: 0.3951 - val_acc: 0.8673\n",
        "Epoch 5/10\n",
        "71/71 [==============================] - ETA: 0s - loss: 0.1295 - acc: 0.9742\n",
        "Epoch 00005: val_loss did not improve from 0.37697\n",
        "71/71 [==============================] - 57s 800ms/step - loss: 0.1295 - acc: 0.9742 - val_loss: 0.4386 - val_acc: 0.8789\n",
        "Epoch 6/10\n",
        "71/71 [==============================] - ETA: 0s - loss: 0.1045 - acc: 0.9816\n",
        "Epoch 00006: val_loss did not improve from 0.37697\n",
        "71/71 [==============================] - 57s 801ms/step - loss: 0.1045 - acc: 0.9816 - val_loss: 0.5104 - val_acc: 0.8566\n",
        "Epoch 7/10\n",
        "71/71 [==============================] - ETA: 0s - loss: 0.0883 - acc: 0.9854\n",
        "Epoch 00007: val_loss did not improve from 0.37697\n",
        "71/71 [==============================] - 57s 801ms/step - loss: 0.0883 - acc: 0.9854 - val_loss: 0.5809 - val_acc: 0.8689\n",
        "<tensorflow.python.keras.callbacks.History at 0x7ff1515897b8>"
      ]
    },
    {
      "cell_type": "markdown",
      "metadata": {
        "id": "sHffIGAPEEa5"
      },
      "source": [
        "## Predicting for Test Data"
      ]
    },
    {
      "cell_type": "code",
      "metadata": {
        "id": "7pnzo8wxBlKQ"
      },
      "source": [
        "saved_model_path = weight_path\n",
        "loaded_model =  tf.keras.models.load_model(saved_model_path)"
      ],
      "execution_count": 72,
      "outputs": []
    },
    {
      "cell_type": "code",
      "metadata": {
        "id": "isvA1qeXIYQ0"
      },
      "source": [
        "X_valid = np.array(X_valid)\n",
        "y_valid = np.array(y_valid)"
      ],
      "execution_count": 74,
      "outputs": []
    },
    {
      "cell_type": "code",
      "metadata": {
        "id": "8MwFt-fb6xzt",
        "outputId": "f4a5e258-b6d9-4af3-9cd3-593aa13086ec",
        "colab": {
          "base_uri": "https://localhost:8080/",
          "height": 68
        }
      },
      "source": [
        "score, acc = loaded_model.evaluate(np.array(X_valid), y_valid, batch_size=batch_size)\n",
        "print('Test score:', score)\n",
        "print('Test accuracy:', acc)"
      ],
      "execution_count": 75,
      "outputs": [
        {
          "output_type": "stream",
          "text": [
            "20/20 [==============================] - 5s 240ms/step - loss: 0.3754 - acc: 0.9010\n",
            "Test score: 0.3754076361656189\n",
            "Test accuracy: 0.9010000228881836\n"
          ],
          "name": "stdout"
        }
      ]
    },
    {
      "cell_type": "code",
      "metadata": {
        "id": "tKjobKdX7eCq",
        "outputId": "42d47456-03b5-45cc-ac58-bb77ec297557",
        "colab": {
          "base_uri": "https://localhost:8080/",
          "height": 136
        }
      },
      "source": [
        "y_pred = loaded_model.predict(X_valid)\n",
        "print(y_pred)"
      ],
      "execution_count": 76,
      "outputs": [
        {
          "output_type": "stream",
          "text": [
            "[[0.00588065]\n",
            " [0.04309267]\n",
            " [0.99613416]\n",
            " ...\n",
            " [0.00248318]\n",
            " [0.97845227]\n",
            " [0.95002353]]\n"
          ],
          "name": "stdout"
        }
      ]
    },
    {
      "cell_type": "code",
      "metadata": {
        "id": "1O0pcGFpESHS",
        "outputId": "b66085d9-6876-4dd4-9385-0f8f3b946ceb",
        "colab": {
          "base_uri": "https://localhost:8080/",
          "height": 204
        }
      },
      "source": [
        "print(\"\\nClassification Report : \\n{}\".format(classification_report(y_pred.round(), y_valid)))"
      ],
      "execution_count": 77,
      "outputs": [
        {
          "output_type": "stream",
          "text": [
            "\n",
            "Classification Report : \n",
            "              precision    recall  f1-score   support\n",
            "\n",
            "         0.0       0.89      0.91      0.90      2431\n",
            "         1.0       0.91      0.90      0.90      2569\n",
            "\n",
            "    accuracy                           0.90      5000\n",
            "   macro avg       0.90      0.90      0.90      5000\n",
            "weighted avg       0.90      0.90      0.90      5000\n",
            "\n"
          ],
          "name": "stdout"
        }
      ]
    },
    {
      "cell_type": "code",
      "metadata": {
        "id": "zfChI2lOEV0Y",
        "outputId": "e9bb2165-8d32-474c-a3bb-a0bd150b9b46",
        "colab": {
          "base_uri": "https://localhost:8080/",
          "height": 345
        }
      },
      "source": [
        "print(\"\\nConfusion matrix\")\n",
        "conf_matrix = confusion_matrix(y_pred.round(), y_valid)\n",
        "plt.imshow(conf_matrix, cmap=plt.cm.Blues, interpolation='nearest')\n",
        "tick_marks = np.arange(2)   \n",
        "classes = [\"0\",\"1\"]\n",
        "plt.xticks(tick_marks, classes)\n",
        "plt.yticks(tick_marks, classes)\n",
        "thresho = conf_matrix.max() / 2.\n",
        "# The below for loop helps to add numbers in the boxes\n",
        "for k, j in itertools.product(range(conf_matrix.shape[0]), range(conf_matrix.shape[1])):\n",
        "    plt.text(j, k, conf_matrix[k, j], horizontalalignment=\"center\", color=\"white\" if conf_matrix[k, j] > thresho else \"black\")\n",
        "\n",
        "plt.tight_layout()\n",
        "plt.ylabel('True label')\n",
        "plt.xlabel('Predicted label')\n",
        "plt.colorbar()\n",
        "plt.show()"
      ],
      "execution_count": 78,
      "outputs": [
        {
          "output_type": "stream",
          "text": [
            "\n",
            "Confusion matrix\n"
          ],
          "name": "stdout"
        },
        {
          "output_type": "display_data",
          "data": {
            "image/png": "[encoded data removed]",
            "text/plain": [
              "<Figure size 432x288 with 2 Axes>"
            ]
          },
          "metadata": {
            "tags": [],
            "needs_background": "light"
          }
        }
      ]
    },
    {
      "cell_type": "code",
      "metadata": {
        "id": "LGkMQ3-lEYLQ",
        "outputId": "659a9fe9-62bc-48b2-c133-fb1df2f0296e",
        "colab": {
          "base_uri": "https://localhost:8080/",
          "height": 312
        }
      },
      "source": [
        "# Below is the ROC curve\n",
        "import sklearn.metrics as m\n",
        "print(\"ROC AUC Score : {}\".format(m.roc_auc_score(y_valid, y_pred.round())))\n",
        "\n",
        "fpr, tpr, threshold = m.roc_curve(y_valid, y_pred.round())\n",
        "plt.figure()\n",
        "plt.plot(fpr, tpr)\n",
        "plt.plot([0,1],[0,1],'--')\n",
        "plt.xlim([0.0, 1.0])\n",
        "plt.ylim([0.0, 1.05])\n",
        "plt.xlabel('False Positive Rate')\n",
        "plt.ylabel('True Positive Rate')\n",
        "plt.title('Receiver operating characteristic')\n",
        "plt.show()"
      ],
      "execution_count": 79,
      "outputs": [
        {
          "output_type": "stream",
          "text": [
            "ROC AUC Score : 0.9008890416605857\n"
          ],
          "name": "stdout"
        },
        {
          "output_type": "display_data",
          "data": {
            "image/png": "[encoded data removed]",
            "text/plain": [
              "<Figure size 432x288 with 1 Axes>"
            ]
          },
          "metadata": {
            "tags": [],
            "needs_background": "light"
          }
        }
      ]
    },
    {
      "cell_type": "code",
      "metadata": {
        "id": "9kn-lUUeIw1i"
      },
      "source": [
        ""
      ],
      "execution_count": null,
      "outputs": []
    }
  ]
}